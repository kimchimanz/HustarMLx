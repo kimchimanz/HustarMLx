{
 "cells": [
  {
   "cell_type": "markdown",
   "metadata": {},
   "source": [
    "The fear of the LORD is the beginning of knowledge, but fools despise wisdom and discipline. Proverbs 1:7\n",
    "\n",
    "-------\n",
    "\n",
    "# Welcome to \"AI for All\"\n",
    "\n",
    "Lecture Notes by idebtor@gmail.com, Handong Global University"
   ]
  },
  {
   "cell_type": "markdown",
   "metadata": {},
   "source": [
    "\n",
    "# Chapter 2. 심화학습(딥러닝) 소개\n",
    "\n",
    "딥러닝(Deep Learning)은 기계학습 (Machine Learning) 알고리즘들 주에 하나인 인공신경망(ANN, Aritificial Neural Network)으로 만든 것입니다. 기계학습 알고리즘에는 앞으로 배우게 될 선형 회귀 혹은 로지스틱 회귀와 같은 알고리즘들이 있습니다. 복잡한 문제를 해결하기 위해 인공신경망을 다양하게 쌓은 것을 딥러닝이라고 합니다(3)"
   ]
  },
  {
   "cell_type": "markdown",
   "metadata": {},
   "source": [
    "<img src=\"https://github.com/idebtor/KMOOC-ML/blob/master/ipynb/images/deep_learning2.png?raw=true\" width=\"400\">\n",
    "<center>그림 1: 딥러닝, 기계학습, 인공지능 다이어그램</center>"
   ]
  },
  {
   "cell_type": "markdown",
   "metadata": {},
   "source": [
    "위 그림에 보면 인공신경망(ANN)이 기계학습의 여러 알고리즘 중 하나라는 것을 알 수 있습니다. 딥러닝은 인공신경망을 사용해 만든 것이므로 인공신경망과 딥러닝을 엄밀하게 구분하지 않습니다. 그래서, 인공신경망(ANN)과 딥러닝(DL)을 함께 표시했습니다. "
   ]
  },
  {
   "cell_type": "markdown",
   "metadata": {},
   "source": [
    "## 1. DL은 인공신경망(ANN)으로 구성됩니다. \n",
    "\n",
    "딥러닝이라는 말은 인공신경망을 여러 겹으로 쌓은 모습에서 유래되었습니다. 하나의 인공뉴론으로 가진 가장 간단한 인공신경망을 그림으로 표현하면 다음과 같습니다. \n",
    "\n",
    "<img src=\"https://github.com/idebtor/KMOOC-ML/blob/master/ipynb/images/simple_node3.png?raw=true\" width=\"300\">\n",
    "<center>그림 2: 두 개의 입력과 편향을 가진 뉴론</center>\n",
    "\n",
    "이처럼 신경망은 입력을 받아 출력으로 전달하는 __뉴론(Neuron)__으로 구성되어 있습니다.  뇌의 뉴론은 자극을 받아 다음 뉴런을 자극을 적절히 던다하는 역할을 수행한다는 것에 영감을 얻어 붙여진 이름입니다. 예를 들면, 어떤 자극이 왔을 때, 아픈지 아프지 아니한지 뉴론이 결정하여 다음 뉴론에게 전달합니다. 사람의 뇌는 약 850억개의 뉴론$^{neuron}$으로 구성되어 있다고 합니다. 2015년 호주에서 유레카 상을 수상한 이 멋진 사진을 보십시오."
   ]
  },
  {
   "cell_type": "markdown",
   "metadata": {},
   "source": [
    "<img src=\"https://github.com/idebtor/KMOOC-ML/blob/master/ipynb/images/in search of memory_big.jpg?raw=true\" width=\"400\">\n",
    "<center>그림 3: 뉴론과 신경망 </center>\n",
    "<center>출처:[Australian Museum](https://australianmuseum.net.au/image/in-search-of-memory-eureka-prizes), 2015, Victor Anggono </center>"
   ]
  },
  {
   "cell_type": "markdown",
   "metadata": {},
   "source": [
    "이러한 뉴론들을 여러 겹으로 쌓아서 다음과 같은 신경망을 만들어 내는 것이 딥러닝입니다. \n",
    "\n",
    "<table><tr>\n",
    "    <td><img src=\"https://github.com/idebtor/KMOOC-ML/blob/master/ipynb/images/google_cat.jpg?raw=true\" width=\"400\"> </td> \n",
    "    <td><img src=\"https://github.com/idebtor/KMOOC-ML/blob/master/ipynb/images/MNIST-NN1.png?raw=true\" width=\"400\"/></td> \n",
    "</tr></table>\n",
    "<center>그림 7: 딥러닝(좌:이미지 분류, 우:MNIST 데이터셋)</center>\n",
    "<cener> 출처(좌): [Building high-level features using large scale unsupervised learning](https://arxiv.org/abs/1112.6209), 2012, Andrew Ng </center> <br>\n"
   ]
  },
  {
   "cell_type": "markdown",
   "metadata": {},
   "source": [
    "뉴론들이 서로 연결된 망을 신경망$^{neural \\ network}$이라고 합니다. 생물학적 뇌의 기본 단위인 뉴론들이 망$^{network}$으로 연결되어 서로 신호를 전달하면서 필요한 연산을 합니다. 뉴론을 서로 연결하는 시냅스의 수는 100조나 된다고 합니다. 그러니까 요즘 아무리 컴퓨터 기능이 뛰어나도, 병렬로 연결할지라도, 인간 한 사람의 두뇌에서 일어나는 신경망의 연산을 따라갈 수 없는 것입니다.\n",
    "\n",
    "- [In Search of Memory (Eureka Prizes)](https://australianmuseum.net.au/image/in-search-of-memory-eureka-prizes)\n",
    "- [The neurocienteist on call](http://www.suzanaherculanohouzel.com/)"
   ]
  },
  {
   "cell_type": "markdown",
   "metadata": {},
   "source": [
    "## 2. 뉴론의 활성화와 비활성화 \n",
    "\n",
    "앞에서 이미 살펴보았지만, 하나의 뉴론으로 구성된 간단한 인공신경망을 다시 봅니다. \n",
    "\n",
    "<img src=\"https://github.com/idebtor/KMOOC-ML/blob/master/ipynb/images/simple_node3.png?raw=true\" width=\"300\">\n",
    "<center>그림 2: 두 개의 입력과 편향을 가진 뉴론</center>\n",
    "\n",
    "그림에서 볼 수 있는 뉴론의 입력과 출력을 다음과 같이 수학적으로 표현할 수 있습니다.  여기서 $b$를 편향(절편)$^{bias}$이라고 부릅니다.  \n",
    "\n",
    "\\begin{equation}\n",
    "  \\ y =\\begin{cases}\n",
    "   \\ 0 & \\text{if $(b + w_1x_1 + w_2x_2 <= 0) $}\\\\\n",
    "      1 & \\text{if $(b + w_1x_1 + w_2x_2 > 0) $} \\ \\tag{1} \\\\\n",
    "  \\end{cases} \n",
    "\\end{equation}\n",
    "\n",
    "$x$와 $w$에 밑첨자 1이 있다는 것은 앞으로 입력과 가중치가 여러 개가 될 수 있다는 것을 짐작할 수 있습니다.  따라서 2개의 입력 신호를 받는 뉴론의 경우에는 각각의 입력과 가중치가 곱해진 값($w_1x_1 + w_2x_2$)과 편향($b$)이 뉴론에 입력되고 뉴론에서 그 값들의 총합($b + w_1x_1 + w_2x_2$)이 0보다 클 때만 뉴론에서 출력이 이루어집니다. 이 때 그 __'뉴론이 활성화 되었다'__ 라고 말합니다.  "
   ]
  },
  {
   "cell_type": "markdown",
   "metadata": {},
   "source": [
    "여러 개의 입력과 가중치와 더불어 많은 뉴론들이 서로 연결되어 연산이 가능한 인공신경망의 구조를 완성합니다.  기계학습이나 딥러닝은 각 노드를 연결하는 가중치와 편향을 알아내는 것입니다. \n",
    "\n",
    "<span style=\"color:blue\">편향을 사용함으로써, 우리가 만든 인공 뉴론에 유연성을 줄 수 있습니다. 다르게 설명하자면, 편향은 인공 뉴론에서 항상 켜져있는 노드라고 볼 수 있으며, 노드에 들어오는 데이터의 값에 곱해지는 가중치와 다르게 편향은 1의 값이 곱해져서 $wx$ 값에 더해집니다. 인공뉴론 모델에도 $b$로 표기되어 있습니다. \n",
    "    \n",
    "참고로, 계산을 단순하게 하기 위해 일반적으로 [$b, w_1, w_2, ...$] 와 [$1, x_1, x_2, ...$] 를 내적하게 됩니다. 내적은 선형대수학에 나오는 개념이며, 파이썬에서 이러한 연산을 하기 위해 넘파이$^{numpy}$ 라이브러리를 사용합니다.<span> <span style=\"color:green\">넘파이$^{numpy}$는 파이썬에서 제공하는 라이브러리로, 대규모의 데이터를 처리하고 연산하기 위한 배열에 대한 다양한 기능을 제공합니다.</span> <span style=\"color:purple\">넘파이와 관련된 내용은 필요할 때마다 자주 다루도록 하겠습니다.</span>"
   ]
  },
  {
   "cell_type": "markdown",
   "metadata": {},
   "source": [
    "__예제 1__: 학습을 통해 다음의 가중치 $w$가 산출되었고, 편향 $b$와 입력값 $x_0, x_1, x_2$ 가 주어졌다고 가정합시다. 뉴런이 활성화될까요?\n",
    "\n",
    "- $\\mathbf{w} = (w_1, w_2) = (0.6, 0.3)$ \n",
    "- $b = -0.5$\n",
    "- $(x_1, x_2) = (0, 1)$\n",
    "\n",
    "(1) 활성화 된다<br>\n",
    "(2) 활성화되지 않는다"
   ]
  },
  {
   "cell_type": "markdown",
   "metadata": {},
   "source": [
    "__예제풀이__: \n",
    "\\begin{align}   \n",
    "    w_0 x_0 + w_1 x_1 + w_2 x_2         \n",
    "    &=  1\\times -0.5 + 0.6 \\times 0 + 0.3 \\times 1 \\\\  \n",
    "    &= -0.5 + 0 + 0.3  \\\\\n",
    "    &= -0.2 비활성화 뉴런\\end{align}"
   ]
  },
  {
   "cell_type": "markdown",
   "metadata": {},
   "source": [
    "-----------\n",
    "\n",
    "__예제 2__:  학습을 통해 다음의 가중치 $w$가 산출되었고, 편향 $b$ 와 입력값 $x_0, x_1, x_2$ 가 주어졌다고 가정합시다. 뉴런이 활성화될까요?\n",
    "\n",
    "- $\\mathbf{w} = (w_1, w_2) = (0.6, 0.3)$ \n",
    "- $b = -0.5$\n",
    "- $(x_1, x_2) = (1, 0)$\n",
    "\n",
    "(1) 활성화 된다<br>\n",
    "(2) 활성화되지 않는다"
   ]
  },
  {
   "cell_type": "markdown",
   "metadata": {},
   "source": [
    "__예제풀이__: \n",
    "\n",
    "\\begin{align}   \n",
    "    w_0 x_0 + w_1 x_1 + w_2 x_2 \n",
    "    &= 1 \\times -0.5 + 0.6 \\times 1 + 0.3 \\times 0  \\\\\n",
    "    &=  0.1 활성화 뉴런\n",
    "\\end{align}"
   ]
  },
  {
   "cell_type": "markdown",
   "metadata": {},
   "source": [
    "## 3. 논리 회로$^{logic \\  gate}$ \n",
    "\n",
    "논리 회로는 하나 이상의 논리적 입력값(참$^{true}$, 거짓$^{false}$)에 대해 논리 연산을 수행하여 하나의 논리적 출력값을 얻는 전자회로입니다.  AND, OR, NOT 회로는 기본적인 불리안 논리 대수를 수행하며, 이런 기본 불리안 대수들의 결합으로 복합적인 논리 기능 즉 NAND, NOR, XOR 같은 다소 복잡한 논리 기능도 수행합니다. \n",
    "\n",
    "다음은 각 논리 회로의 진리표를 보여줍니다. 여기서 $x_1$, $x_2$는 두 개의 입력을 의미하고, 그 외의 다른 열들은 두 입력에 대한 해당 논리 회로(게이트)의 출력을 나타냅니다. 0는 false, 1은 true를 의미합니다. \n",
    "\n",
    "|   $x_1$  |  $x_2$  |  $AND$   |   $NAND$  |  $OR$   | $NOR$   |  $XOR$   |\n",
    "|:---------|:--------|:---------|:----------|:--------|:--------|:---------|\n",
    "|    0     |    0    |    0     |      1    |    0    |    1    |     0    |\n",
    "|    0     |    1    |    0     |      1    |    1    |    0    |     1    |\n",
    "|    1     |    0    |    0     |      1    |    1    |    0    |     1    |\n",
    "|    1     |    1    |    1     |      0    |    1    |    0    |     0    |\n"
   ]
  },
  {
   "cell_type": "markdown",
   "metadata": {},
   "source": [
    "### 3.1 AND 게이트 구현하기\n",
    "\n",
    "지금까지 배운 것으로 AND(논리곱) 게이트 뉴론을 구현하기로 합시다. 뉴론을 만든다는 것은 곧 AND 함수를 구현하는 것입니다. AND 게이트의 진리표의 입력 $x_1, x_2$ 신호를 보내면 뉴론은 $y$의 값을 출력합니다.  \n",
    "\n",
    "AND 게이트의 진리표는 다음과 같습니다.\n",
    "\n",
    "|  $x_1$   |  $x_2$  |  $y$   |\n",
    "|:----------|:-------|:------|\n",
    "|    0     |    0    |    0   |\n",
    "|    0     |    1    |    0   |\n",
    "|    1     |    0    |    0   |\n",
    "|    1     |    1    |    1   |"
   ]
  },
  {
   "cell_type": "markdown",
   "metadata": {},
   "source": [
    "AND 함수를 구현하기 전에 다음 예제 문제를 풀어보면 우리에게 약간의 단서가 될 만한 정보가 있을 것입니다. \n",
    "\n",
    "\\begin{equation}\n",
    "  \\ y =\\begin{cases}\n",
    "   \\ 0 & \\text{if $(b + w_1x_1 + w_2x_2 <= 0) $}\\\\\n",
    "      1 & \\text{if $(b + w_1x_1 + w_2x_2 > 0) $} \\ \\tag{2} \\\\\n",
    "  \\end{cases} \n",
    "\\end{equation} \n",
    "\n",
    "__예제 3__: AND 게이트를 수행하는 뉴론을 만들고자 합니다. 수식 (2)를 만족시키는 아래의 가중치, 편향의 조합 중에서 AND 게이트를 수행하는 조합을 찾아보세요.\n",
    "\n",
    "(1) $(w_1, w_2) = (0.5, 0.5)$, $b=-0.7$    <br>\n",
    "(2) $(w_1, w_2) = (0.5, 0.5)$, $b=-0.3$<br>\n",
    "(3) $(w_1, w_2) = (0.5, 0.5)$, $b=0.2$"
   ]
  },
  {
   "cell_type": "markdown",
   "metadata": {},
   "source": [
    "__예제풀이__: \n",
    "\n",
    "-----------\n",
    "\\begin{align}   \n",
    "    w_0 x_0 + w_1 x_1 + w_2 x_2         \n",
    "    &=  1\\times -0.7 + 0.5 \\times 0 + 0.5 \\times 0 \\\\  \n",
    "    &= -0.7 + 0 + 0.0  \\\\\n",
    "    &= -0.7 \n",
    "    &= y = 0\n",
    "    \\end{align}\n",
    "    \\begin{align}   \n",
    "    w_0 x_0 + w_1 x_1 + w_2 x_2         \n",
    "    &=  1\\times -0.7 + 0.5 \\times 0 + 0.5 \\times 1 \\\\  \n",
    "    &= -0.7 + 0 + 0.5  \\\\\n",
    "    &= -0.2 \n",
    "    &= y = 0\n",
    "    \\end{align}\n",
    "    \\begin{align}   \n",
    "    w_0 x_0 + w_1 x_1 + w_2 x_2         \n",
    "    &=  1\\times -0.7 + 0.5 \\times 1 + 0.5 \\times 0 \\\\  \n",
    "    &= -0.7 + 0.5 + 0  \\\\\n",
    "    &= -0.2 \n",
    "    &= y = 0\n",
    "    \\end{align}\n",
    "    \\begin{align}   \n",
    "    w_0 x_0 + w_1 x_1 + w_2 x_2         \n",
    "    &=  1\\times -0.7 + 0.5 \\times 1 + 0.5 \\times 1 \\\\  \n",
    "    &= -0.7 + 0.5 + 0.5  \\\\\n",
    "    &= 0.3 \n",
    "    &= y = 1\n",
    "    \\end{align}\n",
    "    "
   ]
  },
  {
   "cell_type": "markdown",
   "metadata": {},
   "source": [
    "위의 예제에서 사용한 가중치와 편향을 사용해서 아래와 같이 AND 게이트를 수행하는 인공 뉴론을 만들 수 있습니다."
   ]
  },
  {
   "cell_type": "code",
   "execution_count": 7,
   "metadata": {},
   "outputs": [],
   "source": [
    "import numpy as np\n",
    "\n",
    "def AND(x1, x2):\n",
    "    x = np.array([1, x1, x2])         # input\n",
    "    w = np.array([-0.7, 0.5, 0.5])    # bias + weight\n",
    "    return np.dot(x, w) > 0"
   ]
  },
  {
   "cell_type": "code",
   "execution_count": 8,
   "metadata": {},
   "outputs": [
    {
     "name": "stdout",
     "output_type": "stream",
     "text": [
      "AND(False, False) =  False\n",
      "AND(False, True) =  False\n",
      "AND(True, False) =  False\n",
      "AND(True, True) =  True\n"
     ]
    }
   ],
   "source": [
    "print(\"AND(False, False) = \", AND(False, False))\n",
    "print(\"AND(False, True) = \", AND(False, True))\n",
    "print(\"AND(True, False) = \", AND(True, False))\n",
    "print(\"AND(True, True) = \", AND(True, True))"
   ]
  },
  {
   "cell_type": "markdown",
   "metadata": {},
   "source": [
    "여기서 한 가지 유의할 것은 가중치 즉 $w_1, w_2$는 입력이 결과에 주는 영향력을 조절하는 매개변수이며, 편향은 뉴론이 얼마나 쉽게 활성화 되는지를 조정합니다. \n",
    "\n",
    "$b$는 편향으로 구별되기도 하지만 위의 AND 함수에서 입력한 것과 같이 $x_0=1, w_0=b$ 라고 간주하여 $\\mathbf{wx}$로 일괄 처리할 수 있습니다. "
   ]
  },
  {
   "cell_type": "markdown",
   "metadata": {},
   "source": [
    "### 3.2 AND 게이트의 시각화\n",
    "\n",
    "우리가 구현한 AND논리 함수를 식(2)의 조건문을 이용하여 $x_1, x_2$에 대한 2차원 그래프로 그려보면 우리에게 흥미로운 점들을 관찰할 수 있습니다. 우리가 $w_1, w_2$를 각각 `0.5`로 설정했으며, `b` 즉 $-\\theta$를 `-0.7`로 설정했으므로 식(2)의 조건문들은 다음과 같이 됩니다. \n",
    "\n",
    "  \\begin{cases}\n",
    "   -0.7 + 0.5x_1 + 0.5x_2 <= 0 \\\\\n",
    "   -0.7 + 0.5x_1 + 0.5x_2 > 0 \\tag{3} \\\\\n",
    "  \\end{cases} \n",
    "\n",
    "식(3)을 $x_1$을 독립변수, $x_2$를 종속변수로 삼아 다시 표현하면, 일차함수 $y = ax + b$와 같은 형식의 하나의 직선으로 나타낼 수 있습니다.  \n",
    "  \\begin{align}\n",
    "   -0.7 + 0.5x_1 + 0.5x_2 &= 0 \\\\\n",
    "   x_2 &= -\\frac{0.5}{0.5}x_1 + \\frac{0.7}{0.5} \\\\\n",
    "   x_2 &= -x_1 + 1.4 \\tag{4} \\\\ \n",
    "   y &= ax + b \\\\ \n",
    "   \\end{align}\n",
    "\n",
    "식(4)를 그래프로 나타내면 기울기가 `-1.0`이며, $x_2$절편이 `1.4`인 직선입니다.  \n",
    "\n",
    "이 직선을 중심으로 `(1, -1)` 빨간 점을 포함하는 왼쪽 아랫 부분은 $−0.7+0.5x_1+0.5x_2<=0$ 경우이며, `(1, 1)` 파란 점을 포함하는 오른쪽 윗 부분은 $−0.7+0.5x_1+0.5x_2 > 0$ 경우입니다. "
   ]
  },
  {
   "cell_type": "code",
   "execution_count": 9,
   "metadata": {},
   "outputs": [
    {
     "data": {
      "image/png": "[encoded data removed]",
      "text/plain": [
       "<Figure size 432x288 with 1 Axes>"
      ]
     },
     "metadata": {
      "needs_background": "light"
     },
     "output_type": "display_data"
    }
   ],
   "source": [
    "import numpy as np\n",
    "import matplotlib.pyplot as plt  \n",
    "\n",
    "# code to plot the line b + w_1 x_1 + w_2 x_2 = 0\n",
    "w1 = 0.5\n",
    "w2 = 0.5\n",
    "b = -0.7\n",
    "x1 = np.arange(-2.5, 3.5, .5)\n",
    "x2 = -b/w2 - w1/w2*x1\n",
    "    \n",
    "plt.plot(x1, x2)    \n",
    "plt.axhline(0, color='black', linewidth=1)\n",
    "plt.axvline(0, color='black', linewidth=1)\n",
    "plt.axis('equal')\n",
    "plt.grid(True)\n",
    "plt.xlabel('x1')\n",
    "plt.ylabel('x2')\n",
    "#plt.savefig('images\\weights_bias.png')\n",
    "plt.show()"
   ]
  },
  {
   "cell_type": "markdown",
   "metadata": {},
   "source": [
    "### 3.3 가중치의 의미 \n",
    "\n",
    "다음 코드는 난수를 발생하여 만든 몇 개의 점$(x_1, x_2)$들이 직선$(-0.7 + 0.5x_1 + 0.5x_2 = 0)$을 중심으로 어디에 위치하는 볼 수 있습니다.   \n",
    "\n",
    "조건식(3)에 $(x_1, x_2)$을 대입하여 `0`보다 크면 파란 점(bs:blue square)으로, `0`보다 작으면 붉은 점(ro: red o)모양으로 표시한 것입니다. \n",
    "\n",
    "`random.randint(a, b)`는 `a, b`를 포함한 범위에서 정수의 난수를 발생합니다. `random.seed(value)`에서 `value`를 `seed`(씨앗)이라 부르며, 난수를 발생할 때 항상 정해진 난수 즉 예측 가능한 난수를 발생하기 위하여 사용합니다.  물론, `0`이외에 다른 수를 사용하면 또 다른 고유한 난수가 일정하게 발생합니다. "
   ]
  },
  {
   "cell_type": "code",
   "execution_count": 18,
   "metadata": {},
   "outputs": [
    {
     "data": {
      "image/png": "[encoded data removed]",
      "text/plain": [
       "<Figure size 432x288 with 1 Axes>"
      ]
     },
     "metadata": {
      "needs_background": "light"
     },
     "output_type": "display_data"
    }
   ],
   "source": [
    "# code to plot some random dots\n",
    "ndots = 5\n",
    "np.random.seed(0)   \n",
    "px1 = [np.random.randint(-2, 3) for _ in np.arange(ndots)]\n",
    "px2 = [np.random.randint(-1, 3) for _ in np.arange(ndots)]\n",
    "for ipx1, ipx2 in zip(px1, px2):\n",
    "    if (b + w1*ipx1 + w2*ipx2) <= 0:\n",
    "        plt.plot(ipx1, ipx2, 'ro')\n",
    "    else:\n",
    "        plt.plot(ipx1, ipx2, 'bs')\n",
    "\n",
    "# code to plot the line b + w_1 x_1 + w_2 x_2 = 0\n",
    "w1 = 0.5\n",
    "w2 = 0.5\n",
    "b = -0.7\n",
    "x1 = np.arange(-2.5, 3.5, .5)\n",
    "x2 = -b/w2 - w1/w2*x1\n",
    "    \n",
    "plt.plot(x1, x2)    \n",
    "plt.axhline(0, color='black', linewidth=1)\n",
    "plt.axvline(0, color='black', linewidth=1)\n",
    "plt.axis('equal')\n",
    "plt.grid(True)\n",
    "plt.xlabel('x1')\n",
    "plt.ylabel('x2')\n",
    "#plt.savefig('images\\weights_bias.png')\n",
    "plt.show()"
   ]
  },
  {
   "cell_type": "markdown",
   "metadata": {},
   "source": [
    "여기서 우리는 식(4)를 중심으로 몇 개의 점들을 발생하여 어느 지역에 속하는지 판단해 보았습니다.  그러나,  실제적으로는 몇 개의 점들 즉 자료들이 먼저 주어지고 이러한 자료들을 여기처럼 파란점과 붉은 점을 분류할 수 있도록 뉴론이나 신경망의 가중치와 절편을 구하는 과정을 기계 학습 중에 분류$^{classification}$라고 부르며, 이런 과정을 수행하는 뉴론을 __분류기$^{classifier}$__라고 부릅니다."
   ]
  },
  {
   "cell_type": "markdown",
   "metadata": {},
   "source": [
    "### 3.4 OR Gate Example"
   ]
  },
  {
   "cell_type": "code",
   "execution_count": 19,
   "metadata": {},
   "outputs": [],
   "source": [
    "import numpy as np\n",
    "def OR(x1, x2):\n",
    "    x = np.array([1, x1, x2])         # input\n",
    "    w = np.array([-0.3, 0.5, 0.5])    # bias + weight\n",
    "    return np.dot(x, w) > 0"
   ]
  },
  {
   "cell_type": "code",
   "execution_count": 20,
   "metadata": {},
   "outputs": [
    {
     "name": "stdout",
     "output_type": "stream",
     "text": [
      "OR(False, False) =  False\n",
      "OR(False, True) =  True\n",
      "OR(True, False) =  True\n",
      "OR(True, True) =  True\n"
     ]
    }
   ],
   "source": [
    "print(\"OR(False, False) = \", OR(False, False))\n",
    "print(\"OR(False, True) = \", OR(False, True))\n",
    "print(\"OR(True, False) = \", OR(True, False))\n",
    "print(\"OR(True, True) = \", OR(True, True))"
   ]
  },
  {
   "cell_type": "markdown",
   "metadata": {},
   "source": [
    "## 4. 기계학습과 딥러닝 구별하기\n",
    "\n",
    "딥러닝이 기계학습의 한 분야이긴 하지만, 둘을 굳이 구별하고자 한다면, 둘의 차이를 구별하고자 한다면, '처리하는 데이터'에 따라 구별하면 쉽게 구별이 됩니다. 기계학습에서는 처리하기 힘든 자료를 딥러닝에서는 처리를 잘 하기 때문입니다. 예를 들면, 딥러닝은 음성, 이미지, 텍스트에 관련된 분야의 문제를 잘 해결하며, 기계핫습은 암환자의 검진 데어터 분석이나 회사의 매출 데이터와 같은 정형화딘 데이터에 대한 문제를 잘 해결합니다(3)"
   ]
  },
  {
   "cell_type": "markdown",
   "metadata": {},
   "source": [
    "## Exercise\n",
    "#### (5 문제의 답을 지정된 폴더에 답하십시오)\n",
    "\n",
    "지금까지 우리는 인공지능, 기계학습, 딥러닝을 구분하고 딥러닝이 기계학습의 알고리즘 중 하나인 `인공신경망(ANN)`으로 만든 알고리즘이라는 것을 배웠습니다. \n",
    "\n",
    "다음은 기계학습의 주요 용어들을 정리한 것입니다. 각 설명을 읽고, 빈 칸을 한 단어로 채우며, 주요 개념을 한 번 기억해 보세요. \n",
    "\n",
    "1. `입력`은 훈련(학습) 데이터를 구성하는 대표적인 값 중 하나로, 여기서는 '시간'을 이것으로 사용했습니다. 예를 들어 공부 시간 `6.1`과 `Pass`라는 훈련 데이터가 있다면, `6.1`이 바로 이 값에 해당합니다. \n",
    "\n",
    "1. `label`은 훈련 데이터를 구성하는 값 중 하나로, 여기서는 `Pass` 혹은 `Fail`을 이 값으로 표시한 것으로 사용했습니다. \n",
    "\n",
    "1. `모델`은 훈련 데이터를 이용하여 만든 일종의 수식으로, 여기서는 이것을 통해 'Pass 혹은 Fail 이이라는 것을 예측'했습니다. 이것을 파이썬 클래스로 구현할 것이며, 이것이 기계학습과 딥러닝의 결과물 중의 하나입니다. \n",
    "\n",
    "1. `규칙`은 훈련 데이터를 이용하여 만든 수식을 구성하는 중요 요소입니다. 여기서는 우리가 다음과 같은 수식을 만든 다음, 0.2, 0.1을 합쳐서 이것이라고 불렀습니다. 기계학습과 딥러닝은 이것을 스스로 찾아내도록 훈련 혹은 학습하는 것입니다. 앞으로 이것을 찾아내고 수정하는 여러 가지 알고리즘을 공부하게 될 것입니다. \n",
    "\n",
    "\\begin{align}\n",
    "y &= 0.2 x + 0.1 \\quad \\text{$(pass \\quad if \\ y > 1)$} \\\\\n",
    "y &= a x  + b \\\\\n",
    "output &= weight \\times input + bias\n",
    "\\end{align}\n"
   ]
  },
  {
   "cell_type": "markdown",
   "metadata": {},
   "source": [
    "## 참고문헌\n",
    "\n",
    "1. 케라스 창시자에게 배우는 딥러닝, 프랑소와 숄레, 길벗\n",
    "1. 핸즈온 머신러닝, 오렐리앙 제롱, 한빛미디어\n",
    "1. 딥러닝 입문, 박해선, 이지스 퍼블리싱\n",
    "1. 파이썬으로 배우는 기계학습, 김영섭, K-MOOC"
   ]
  },
  {
   "cell_type": "markdown",
   "metadata": {},
   "source": [
    "-------\n",
    "__Be joyful always!__ 1 Thes.5:16"
   ]
  }
 ],
 "metadata": {
  "kernelspec": {
   "display_name": "Python 3",
   "language": "python",
   "name": "python3"
  },
  "language_info": {
   "codemirror_mode": {
    "name": "ipython",
    "version": 3
   },
   "file_extension": ".py",
   "mimetype": "text/x-python",
   "name": "python",
   "nbconvert_exporter": "python",
   "pygments_lexer": "ipython3",
   "version": "3.8.10"
  }
 },
 "nbformat": 4,
 "nbformat_minor": 1
}
